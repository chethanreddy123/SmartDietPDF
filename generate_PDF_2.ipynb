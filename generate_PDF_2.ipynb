{
 "cells": [
  {
   "cell_type": "code",
   "execution_count": 261,
   "id": "chubby-relation",
   "metadata": {},
   "outputs": [],
   "source": [
    "import os\n",
    "from fpdf import FPDF\n",
    "from PIL import Image"
   ]
  },
  {
   "cell_type": "code",
   "execution_count": null,
   "id": "medium-picture",
   "metadata": {},
   "outputs": [],
   "source": []
  },
  {
   "cell_type": "code",
   "execution_count": 262,
   "id": "british-gateway",
   "metadata": {},
   "outputs": [],
   "source": [
    "title = 'Smart Diet Planner'\n",
    "contact = ' WhatsApp Us : +91-9999118595 '\n",
    "customer = 'Dear Sarthak! Here is your personalised diet plan. '\n",
    "\n",
    "class PDF(FPDF):\n",
    "    def header(self):\n",
    "       \n",
    "        # Arial bold 15\n",
    "        self.set_font('Arial', 'B', 15)\n",
    "        \n",
    "        ################################ Main Box\n",
    "        # Calculate width of title and position\n",
    "        w = self.get_string_width(title) + 145\n",
    "        self.set_x((210 - w) / 2)\n",
    "        \n",
    "        # Colors of frame, background and text\n",
    "        self.set_draw_color(242, 242, 242)\n",
    "        self.set_fill_color(0, 151, 161)\n",
    "        self.set_text_color(242, 242, 242)\n",
    "        \n",
    "        # Thickness of frame (1 mm)\n",
    "        self.set_line_width(1)\n",
    "        # Title\n",
    "        self.cell(w, 40, title, 1, 1, 'C', 1)\n",
    "        # Line break\n",
    "        \n",
    "        ################################ Main Name\n",
    "        w = self.get_string_width(customer) + 15\n",
    "        #self.set_x((210 - w) / 2)\n",
    "        \n",
    "        # Colors of frame, background and text\n",
    "        self.set_draw_color(242, 242, 242)\n",
    "        self.set_fill_color(242, 242, 242)\n",
    "        self.set_text_color(0, 151, 161)\n",
    "        \n",
    "        # Thickness of frame (1 mm)\n",
    "        self.set_line_width(1)\n",
    "        # Title\n",
    "        \n",
    "        # Arial bold 15\n",
    "        self.set_font('Arial', 'I', 11)\n",
    "        self.cell(190, 10, customer, 1, 1, 'C', 1)\n",
    "        # Line break\n",
    "        \n",
    "        \n",
    "        \n",
    "        \n",
    "         # Logo\n",
    "        self.image('morlogo.png', 10, 12, 33)\n",
    "        self.ln(10)\n",
    "\n",
    "    def footer(self):\n",
    "        # Position at 1.5 cm from bottom\n",
    "        self.set_y(-15)\n",
    "        \n",
    "        # Arial bold 15\n",
    "        self.set_font('Arial', 'I', 11)\n",
    "        \n",
    "        # Calculate width of title and position\n",
    "        w = self.get_string_width(contact) + 145\n",
    "        self.set_x((210 - w) / 2)\n",
    "        \n",
    "        # Colors of frame, background and text\n",
    "        self.set_draw_color(242, 242, 242)\n",
    "        self.set_fill_color(0, 151, 161)\n",
    "        self.set_text_color(242, 242, 242)\n",
    "        \n",
    "        # Thickness of frame (1 mm)\n",
    "        self.set_line_width(1)\n",
    "        # Title\n",
    "        self.cell(w, 14, contact, 10, 1, 'L', 1)\n",
    "        \n",
    "        # Arial italic 8\n",
    "        self.set_font('Arial', 'I', 8)\n",
    "        # Text color in gray\n",
    "        self.set_text_color(128)\n",
    "\n",
    "    def chapter_title(self, num, label):\n",
    "        # Arial 12\n",
    "        self.set_font('Arial', '', 12)\n",
    "        # Background color\n",
    "        self.set_fill_color(200, 220, 255)\n",
    "        # Title\n",
    "        self.cell(0, 6, '%s  (%s)' % (label, num), 0, 1, 'L', 1)\n",
    "        # Line break\n",
    "        self.ln(4)\n",
    "\n",
    "    def chapter_body(self, name):\n",
    "        # Read text file\n",
    "        with open(name, 'rb') as fh:\n",
    "            txt = fh.read().decode('latin-1')\n",
    "        # Times 12\n",
    "        self.set_font('Times', '', 12)\n",
    "        # Output justified text\n",
    "        self.multi_cell(0, 5, txt)\n",
    "        # Line break\n",
    "        self.ln(1)\n",
    "        \n",
    "        # Mention in italics\n",
    "        self.set_font('', 'I')\n",
    "        self.cell(0, 5, '(end of excerpt)')\n",
    "\n",
    "    def print_chapter(self, num, title, name):\n",
    "        self.add_page()\n",
    "        self.chapter_title(num, title)\n",
    "        self.chapter_body(name)"
   ]
  },
  {
   "cell_type": "code",
   "execution_count": null,
   "id": "coastal-facility",
   "metadata": {},
   "outputs": [],
   "source": []
  },
  {
   "cell_type": "code",
   "execution_count": 263,
   "id": "critical-warehouse",
   "metadata": {},
   "outputs": [
    {
     "name": "stderr",
     "output_type": "stream",
     "text": [
      "<ipython-input-262-072fe946992b>:24: DeprecationWarning: The parameter \"ln\" is deprecated. Instead of ln=1 use new_x=XPos.LMARGIN, new_y=YPos.NEXT.\n",
      "  self.cell(w, 40, title, 1, 1, 'C', 1)\n",
      "<ipython-input-262-072fe946992b>:42: DeprecationWarning: The parameter \"ln\" is deprecated. Instead of ln=1 use new_x=XPos.LMARGIN, new_y=YPos.NEXT.\n",
      "  self.cell(190, 10, customer, 1, 1, 'C', 1)\n",
      "<ipython-input-262-072fe946992b>:84: DeprecationWarning: The parameter \"ln\" is deprecated. Instead of ln=1 use new_x=XPos.LMARGIN, new_y=YPos.NEXT.\n",
      "  self.cell(0, 6, '%s  (%s)' % (label, num), 0, 1, 'L', 1)\n",
      "<ipython-input-262-072fe946992b>:71: DeprecationWarning: The parameter \"ln\" is deprecated. Instead of ln=1 use new_x=XPos.LMARGIN, new_y=YPos.NEXT.\n",
      "  self.cell(w, 14, contact, 10, 1, 'L', 1)\n"
     ]
    }
   ],
   "source": [
    "pdf = PDF()\n",
    "pdf.set_title(title)\n",
    "pdf.set_author('Weekly Diet Plan!')\n",
    "pdf.print_chapter('17th October 2022', 'Monday', '20k_c1.txt')\n",
    "pdf.print_chapter('18th October 2022', 'Tuesday', '20k_c2.txt')"
   ]
  },
  {
   "cell_type": "code",
   "execution_count": 264,
   "id": "periodic-objective",
   "metadata": {},
   "outputs": [
    {
     "name": "stderr",
     "output_type": "stream",
     "text": [
      "<ipython-input-264-9075e0dfd514>:1: DeprecationWarning: \"dest\" parameter is deprecated, unused and will soon be removed\n",
      "  pdf.output('tuto1.pdf', 'F')\n",
      "<ipython-input-262-072fe946992b>:71: DeprecationWarning: The parameter \"ln\" is deprecated. Instead of ln=1 use new_x=XPos.LMARGIN, new_y=YPos.NEXT.\n",
      "  self.cell(w, 14, contact, 10, 1, 'L', 1)\n"
     ]
    }
   ],
   "source": [
    "pdf.output('tuto1.pdf', 'F')"
   ]
  },
  {
   "cell_type": "code",
   "execution_count": null,
   "id": "guided-services",
   "metadata": {},
   "outputs": [],
   "source": []
  },
  {
   "cell_type": "code",
   "execution_count": null,
   "id": "invisible-wayne",
   "metadata": {},
   "outputs": [],
   "source": []
  },
  {
   "cell_type": "code",
   "execution_count": null,
   "id": "honey-means",
   "metadata": {},
   "outputs": [],
   "source": []
  },
  {
   "cell_type": "code",
   "execution_count": null,
   "id": "reported-japanese",
   "metadata": {},
   "outputs": [],
   "source": []
  }
 ],
 "metadata": {
  "kernelspec": {
   "display_name": "Python 3",
   "language": "python",
   "name": "python3"
  },
  "language_info": {
   "codemirror_mode": {
    "name": "ipython",
    "version": 3
   },
   "file_extension": ".py",
   "mimetype": "text/x-python",
   "name": "python",
   "nbconvert_exporter": "python",
   "pygments_lexer": "ipython3",
   "version": "3.9.1"
  }
 },
 "nbformat": 4,
 "nbformat_minor": 5
}
